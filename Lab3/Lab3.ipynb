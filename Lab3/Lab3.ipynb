{
 "cells": [
  {
   "cell_type": "code",
   "execution_count": 1,
   "metadata": {
    "collapsed": true,
    "deletable": true,
    "editable": true
   },
   "outputs": [],
   "source": [
    "from mpmath import *"
   ]
  },
  {
   "cell_type": "markdown",
   "metadata": {},
   "source": [
    "# Bisekcja:"
   ]
  },
  {
   "cell_type": "code",
   "execution_count": 297,
   "metadata": {
    "collapsed": false,
    "deletable": true,
    "editable": true
   },
   "outputs": [],
   "source": [
    "def bisection(function, start, end, precision=53, eps=1e-15, delta=1e-30):\n",
    "    mp.prec = precision\n",
    "    start = mpf(start)\n",
    "    end = mpf(end)\n",
    "    eps = mpf(eps)\n",
    "    \n",
    "    i = 0\n",
    "    n = ceil(log((end - start)/ eps) / log(2))\n",
    "    while abs(function(end)) > eps and i < n: # and abs(end - start) > delta:\n",
    "        x = start + ((end - start) / 2)\n",
    "        if sign(function(start)) != sign(function(x)):\n",
    "            end = x\n",
    "        else:\n",
    "            start = x\n",
    "        i += 1\n",
    "    print('number of iterations: ', i)\n",
    "    return x"
   ]
  },
  {
   "cell_type": "code",
   "execution_count": 298,
   "metadata": {
    "collapsed": true,
    "deletable": true,
    "editable": true
   },
   "outputs": [],
   "source": [
    "f1 = lambda x : cos(x) * cosh(x) - 1\n",
    "f2 = lambda x : (1/x) - tan(x)\n",
    "f3 = lambda x : (2**(-x)) + e**x + 2 * cos(x) - 6"
   ]
  },
  {
   "cell_type": "code",
   "execution_count": 299,
   "metadata": {
    "collapsed": false
   },
   "outputs": [
    {
     "name": "stdout",
     "output_type": "stream",
     "text": [
      "number of iterations:  101\n"
     ]
    },
    {
     "data": {
      "text/plain": [
       "mpf('4.7300407448627038')"
      ]
     },
     "execution_count": 299,
     "metadata": {},
     "output_type": "execute_result"
    }
   ],
   "source": [
    "bisection(f1, 3/2*pi, 2 * pi, eps=1e-30)"
   ]
  },
  {
   "cell_type": "code",
   "execution_count": 300,
   "metadata": {
    "collapsed": false
   },
   "outputs": [
    {
     "name": "stdout",
     "output_type": "stream",
     "text": [
      "number of iterations:  51\n"
     ]
    },
    {
     "data": {
      "text/plain": [
       "mpf('0.86033358901937951')"
      ]
     },
     "execution_count": 300,
     "metadata": {},
     "output_type": "execute_result"
    }
   ],
   "source": [
    "bisection(f2, 1e-30, pi/2)"
   ]
  },
  {
   "cell_type": "code",
   "execution_count": 301,
   "metadata": {
    "collapsed": false
   },
   "outputs": [
    {
     "name": "stdout",
     "output_type": "stream",
     "text": [
      "number of iterations:  51\n"
     ]
    },
    {
     "data": {
      "text/plain": [
       "mpf('1.8293836019338494')"
      ]
     },
     "execution_count": 301,
     "metadata": {},
     "output_type": "execute_result"
    }
   ],
   "source": [
    "bisection(f3, 1, 3)"
   ]
  },
  {
   "cell_type": "markdown",
   "metadata": {},
   "source": [
    "# Newton:"
   ]
  },
  {
   "cell_type": "code",
   "execution_count": 302,
   "metadata": {
    "collapsed": false
   },
   "outputs": [],
   "source": [
    "def newton(f, df, start, precision=53, eps=1e-15, delta=1e-30):\n",
    "    mp.prec = precision\n",
    "    start = mpf(start)\n",
    "    eps = mpf(eps)\n",
    "    \n",
    "    i = 0\n",
    "    x = start - (f(start)/df(start))\n",
    "    \n",
    "    n = abs(ceil(log(abs(start - x)/ eps) / log(2)))\n",
    "    \n",
    "    while abs(f(x)) > eps and i < n and abs(start - x) > delta:\n",
    "        start = x\n",
    "        x = start - (f(start)/df(start))        \n",
    "        i += 1\n",
    "    print(i)\n",
    "    return x\n",
    "    "
   ]
  },
  {
   "cell_type": "code",
   "execution_count": 306,
   "metadata": {
    "collapsed": false
   },
   "outputs": [
    {
     "name": "stdout",
     "output_type": "stream",
     "text": [
      "4\n"
     ]
    },
    {
     "data": {
      "text/plain": [
       "mpf('4.7300407448627038')"
      ]
     },
     "execution_count": 306,
     "metadata": {},
     "output_type": "execute_result"
    }
   ],
   "source": [
    "df1 = lambda x : cos(x) * sinh(x) - sin(x)*cosh(x)\n",
    "newton(f1, df1, 3/2*pi)"
   ]
  },
  {
   "cell_type": "code",
   "execution_count": 307,
   "metadata": {
    "collapsed": false
   },
   "outputs": [
    {
     "name": "stdout",
     "output_type": "stream",
     "text": [
      "3\n"
     ]
    },
    {
     "data": {
      "text/plain": [
       "mpf('0.86033358901937973')"
      ]
     },
     "execution_count": 307,
     "metadata": {},
     "output_type": "execute_result"
    }
   ],
   "source": [
    "df2 = lambda x : -1/x**2 - sec(x)**2\n",
    "newton(f2, df2, pi/2 - pi/4)"
   ]
  },
  {
   "cell_type": "code",
   "execution_count": 308,
   "metadata": {
    "collapsed": false
   },
   "outputs": [
    {
     "name": "stdout",
     "output_type": "stream",
     "text": [
      "7\n"
     ]
    },
    {
     "data": {
      "text/plain": [
       "mpf('1.829383601933849')"
      ]
     },
     "execution_count": 308,
     "metadata": {},
     "output_type": "execute_result"
    }
   ],
   "source": [
    "df3 = lambda x : e**x - 2**(-x) * log(2) - 2 * sin(x)\n",
    "newton(f3, df3, 1)"
   ]
  },
  {
   "cell_type": "markdown",
   "metadata": {},
   "source": [
    "# Sieczne:"
   ]
  },
  {
   "cell_type": "code",
   "execution_count": 309,
   "metadata": {
    "collapsed": false
   },
   "outputs": [],
   "source": [
    "def secants(f, first, second, precision=53, eps=1e-15, delta=1e-30):\n",
    "    mp.prec = precision\n",
    "    first = mpf(first)\n",
    "    second = mpf(second)\n",
    "    eps = mpf(eps)\n",
    "    \n",
    "    i = 0\n",
    "    n = ceil(log(abs(second - first)/ eps) / log(2))\n",
    "#     n = 50\n",
    "    \n",
    "    x = second - ((f(second) * (second - first)) / (f(second) - f(first)))\n",
    "    while abs(f(x)) > eps and i < n and abs(x - second) > delta:\n",
    "        first = second\n",
    "        second = x\n",
    "        x = second - ((f(second) * (second - first))/ (f(second) - f(first)))\n",
    "        i += 1\n",
    "    print(i)\n",
    "    return x"
   ]
  },
  {
   "cell_type": "code",
   "execution_count": 310,
   "metadata": {
    "collapsed": false,
    "deletable": true,
    "editable": true
   },
   "outputs": [
    {
     "name": "stdout",
     "output_type": "stream",
     "text": [
      "6\n"
     ]
    },
    {
     "data": {
      "text/plain": [
       "mpf('4.7300407448627038')"
      ]
     },
     "execution_count": 310,
     "metadata": {},
     "output_type": "execute_result"
    }
   ],
   "source": [
    "secants(f1, 3/2*pi, 2 * pi, eps=1e-30)"
   ]
  },
  {
   "cell_type": "code",
   "execution_count": 311,
   "metadata": {
    "collapsed": false,
    "deletable": true,
    "editable": true
   },
   "outputs": [
    {
     "name": "stdout",
     "output_type": "stream",
     "text": [
      "1\n"
     ]
    },
    {
     "data": {
      "text/plain": [
       "mpf('1.5707963267948708')"
      ]
     },
     "execution_count": 311,
     "metadata": {},
     "output_type": "execute_result"
    }
   ],
   "source": [
    "secants(f2, 1e-30, pi/2)"
   ]
  },
  {
   "cell_type": "code",
   "execution_count": 312,
   "metadata": {
    "collapsed": false,
    "deletable": true,
    "editable": true
   },
   "outputs": [
    {
     "name": "stdout",
     "output_type": "stream",
     "text": [
      "9\n"
     ]
    },
    {
     "data": {
      "text/plain": [
       "mpf('1.829383601933849')"
      ]
     },
     "execution_count": 312,
     "metadata": {},
     "output_type": "execute_result"
    }
   ],
   "source": [
    "secants(f3, 1, 3)"
   ]
  },
  {
   "cell_type": "code",
   "execution_count": null,
   "metadata": {
    "collapsed": true
   },
   "outputs": [],
   "source": []
  }
 ],
 "metadata": {
  "kernelspec": {
   "display_name": "Python 3",
   "language": "python",
   "name": "python3"
  },
  "language_info": {
   "codemirror_mode": {
    "name": "ipython",
    "version": 3
   },
   "file_extension": ".py",
   "mimetype": "text/x-python",
   "name": "python",
   "nbconvert_exporter": "python",
   "pygments_lexer": "ipython3",
   "version": "3.6.0"
  }
 },
 "nbformat": 4,
 "nbformat_minor": 2
}
