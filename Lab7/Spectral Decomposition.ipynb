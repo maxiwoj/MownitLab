{
 "cells": [
  {
   "cell_type": "markdown",
   "metadata": {},
   "source": [
    "(ang. Eigene Decomposition / Spectral Decomposition)\n"
   ]
  },
  {
   "cell_type": "code",
   "execution_count": null,
   "metadata": {
    "collapsed": true
   },
   "outputs": [],
   "source": [
    "import numpy as np\n",
    "from scipy import linalg"
   ]
  },
  {
   "cell_type": "code",
   "execution_count": 70,
   "metadata": {
    "collapsed": true,
    "deletable": true,
    "editable": true
   },
   "outputs": [],
   "source": [
    "from tqdm import tqdm"
   ]
  },
  {
   "cell_type": "code",
   "execution_count": 32,
   "metadata": {
    "collapsed": false
   },
   "outputs": [],
   "source": [
    "A = np.random.rand(3,3)"
   ]
  },
  {
   "cell_type": "code",
   "execution_count": 34,
   "metadata": {
    "collapsed": true
   },
   "outputs": [],
   "source": [
    "def power_method(A, eps=1e-5, maxIt=100000):\n",
    "    n = len(A)\n",
    "    v_k = np.array([1/n] * n)\n",
    "    delta = 1\n",
    "    for i in range(maxIt):\n",
    "        if(delta < eps):\n",
    "            break\n",
    "        v_kk = A @ v_k\n",
    "        lambda_k = np.linalg.norm(v_k, np.inf)\n",
    "        v_kk = v_kk / lambda_k\n",
    "        delta = np.linalg.norm(v_k - v_kk)\n",
    "        v_k = v_kk\n",
    "    return v_k / np.linalg.norm(v_k)"
   ]
  },
  {
   "cell_type": "code",
   "execution_count": 35,
   "metadata": {
    "collapsed": false
   },
   "outputs": [
    {
     "data": {
      "text/plain": [
       "array([ 0.6418389 ,  0.43066188,  0.63448654])"
      ]
     },
     "execution_count": 35,
     "metadata": {},
     "output_type": "execute_result"
    }
   ],
   "source": [
    "power_method(A)"
   ]
  },
  {
   "cell_type": "code",
   "execution_count": 87,
   "metadata": {
    "collapsed": false,
    "scrolled": false
   },
   "outputs": [
    {
     "data": {
      "text/plain": [
       "array([ 0.64183899,  0.4306624 ,  0.6344861 ])"
      ]
     },
     "execution_count": 87,
     "metadata": {},
     "output_type": "execute_result"
    }
   ],
   "source": [
    "np.linalg.eig(A)[1].transpose()[0]"
   ]
  },
  {
   "cell_type": "code",
   "execution_count": 84,
   "metadata": {
    "collapsed": true
   },
   "outputs": [],
   "source": [
    "def raileigh(x, A):\n",
    "    return (x.transpose() @ A @ x) / (x.transpose() @ x)"
   ]
  },
  {
   "cell_type": "code",
   "execution_count": 92,
   "metadata": {
    "collapsed": false
   },
   "outputs": [],
   "source": [
    "def inverse_power_method(A, eps=1e-5, maxIt=10000, sigma=1):\n",
    "    n = len(A)\n",
    "    v_k = np.array([1/n] * n)\n",
    "    B = A - sigma * np.eye(n)\n",
    "    delta = 1\n",
    "    \n",
    "    solver = linalg.lu_factor(B)\n",
    "    \n",
    "    for i in tqdm(range(maxIt)):\n",
    "        if(delta < eps):\n",
    "            break\n",
    "        v_kk = linalg.lu_solve(solver, v_k)\n",
    "        v_kk = v_kk / np.linalg.norm(v_kk)\n",
    "        delta = np.linalg.norm(v_k - v_kk)\n",
    "        v_k = v_kk\n",
    "    lambda_k = raileigh(v_k, A)\n",
    "    return v_k / np.linalg.norm(v_k), lambda_k"
   ]
  },
  {
   "cell_type": "code",
   "execution_count": 93,
   "metadata": {
    "collapsed": false
   },
   "outputs": [
    {
     "name": "stderr",
     "output_type": "stream",
     "text": [
      "  0%|          | 0/10000 [00:00<?, ?it/s]\n"
     ]
    },
    {
     "data": {
      "text/plain": [
       "(array([ 0.64183729,  0.43066191,  0.63448815]), 1.4430730569809564)"
      ]
     },
     "execution_count": 93,
     "metadata": {},
     "output_type": "execute_result"
    }
   ],
   "source": [
    "inverse_power_method(A)"
   ]
  },
  {
   "cell_type": "code",
   "execution_count": 95,
   "metadata": {
    "collapsed": false
   },
   "outputs": [
    {
     "data": {
      "text/plain": [
       "<function numpy.linalg.linalg.solve>"
      ]
     },
     "execution_count": 95,
     "metadata": {},
     "output_type": "execute_result"
    }
   ],
   "source": [
    "np.linalg.solve"
   ]
  },
  {
   "cell_type": "code",
   "execution_count": 113,
   "metadata": {
    "collapsed": false
   },
   "outputs": [],
   "source": [
    "def Rayleigh_iloraz(A, sigma=0, eps=1e-5, maxIt=10000):\n",
    "    lambda_k = sigma\n",
    "    n = len(A)\n",
    "    delta = 1\n",
    "    v_k = np.array([1/n] * n)\n",
    "    for i in range(maxIt):\n",
    "        if delta < eps:\n",
    "            break;\n",
    "        B = A - lambda_k * np.eye(len(A))\n",
    "        v_kk = np.linalg.solve(B, v_k)\n",
    "        v_kk = v_kk / np.linalg.norm(v_kk)\n",
    "        lambda_k = raileigh(v_k, A)\n",
    "        delta = np.linalg.norm(v_k - v_kk)\n",
    "        v_k = v_kk\n",
    "        \n",
    "    return v_k"
   ]
  },
  {
   "cell_type": "code",
   "execution_count": 114,
   "metadata": {
    "collapsed": false
   },
   "outputs": [
    {
     "data": {
      "text/plain": [
       "array([ 0.64183899,  0.4306624 ,  0.6344861 ])"
      ]
     },
     "execution_count": 114,
     "metadata": {},
     "output_type": "execute_result"
    }
   ],
   "source": [
    "Rayleigh_iloraz(A)"
   ]
  },
  {
   "cell_type": "code",
   "execution_count": null,
   "metadata": {
    "collapsed": true
   },
   "outputs": [],
   "source": []
  }
 ],
 "metadata": {
  "kernelspec": {
   "display_name": "Python 3",
   "language": "python",
   "name": "python3"
  },
  "language_info": {
   "codemirror_mode": {
    "name": "ipython",
    "version": 3
   },
   "file_extension": ".py",
   "mimetype": "text/x-python",
   "name": "python",
   "nbconvert_exporter": "python",
   "pygments_lexer": "ipython3",
   "version": "3.6.0"
  }
 },
 "nbformat": 4,
 "nbformat_minor": 2
}
