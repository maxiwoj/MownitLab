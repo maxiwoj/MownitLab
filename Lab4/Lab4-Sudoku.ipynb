{
 "cells": [
  {
   "cell_type": "markdown",
   "metadata": {
    "deletable": true,
    "editable": true
   },
   "source": [
    "# Sudoku\n",
    "----------\n",
    "Celem ćwiczenia było napisanie algorytmy wykorzystującego metodę symulowanego wyżarzania w celu rozwiązania sudoku "
   ]
  },
  {
   "cell_type": "code",
   "execution_count": 1,
   "metadata": {
    "collapsed": true,
    "deletable": true,
    "editable": true
   },
   "outputs": [],
   "source": [
    "import matplotlib.pyplot as plt\n",
    "import random\n",
    "import math\n",
    "from tqdm import tqdm"
   ]
  },
  {
   "cell_type": "markdown",
   "metadata": {
    "deletable": true,
    "editable": true
   },
   "source": [
    "# Funkcje pomocnicze:"
   ]
  },
  {
   "cell_type": "markdown",
   "metadata": {
    "deletable": true,
    "editable": true
   },
   "source": [
    "#### Wczytywanie sudoku:"
   ]
  },
  {
   "cell_type": "code",
   "execution_count": 15,
   "metadata": {
    "collapsed": false,
    "deletable": true,
    "editable": true
   },
   "outputs": [],
   "source": [
    "def readFromFile(filename):\n",
    "    with open(filename) as file:\n",
    "        sudoku = file.read()\n",
    "    sudoku = sudoku.splitlines()\n",
    "    sudoku = list(map(lambda x : list(x), sudoku))\n",
    "    return sudoku"
   ]
  },
  {
   "cell_type": "markdown",
   "metadata": {
    "deletable": true,
    "editable": true
   },
   "source": [
    "#### Znajdowanie wszystkich pól w klastrze dla danego punktu:"
   ]
  },
  {
   "cell_type": "code",
   "execution_count": 3,
   "metadata": {
    "collapsed": true,
    "deletable": true,
    "editable": true
   },
   "outputs": [],
   "source": [
    "def cluster(x,y):\n",
    "    clusterRow = x//3\n",
    "    clusterCol = y//3\n",
    "    return [(i + clusterRow*3,j + clusterCol*3) for i in range(3) for j in range(3)]"
   ]
  },
  {
   "cell_type": "markdown",
   "metadata": {
    "deletable": true,
    "editable": true
   },
   "source": [
    "#### Funkcje kosztu:\n",
    "-------\n",
    "##### cost_all:\n",
    "    Funkcja liczy koszt (powtórzenie elementów) dla każdego pola w sudoku\n",
    "##### cost_lines_clusters:\n",
    "    Funkcja liczy ilość powtarzających się elementów dla każdego klastra oraz wiersza (założenie, że przykładowe\n",
    "    rozwiązanie zostaje wygenerowane poprzez poprawne uzupełnienie sudoku wg kolumn)"
   ]
  },
  {
   "cell_type": "code",
   "execution_count": 4,
   "metadata": {
    "collapsed": true,
    "deletable": true,
    "editable": true
   },
   "outputs": [],
   "source": [
    "def cost(checked_field, sudoku):\n",
    "    cost = 0\n",
    "    for field in cluster(*checked_field):\n",
    "        if (sudoku[checked_field[0]][checked_field[1]] == sudoku[field[0]][field[1]]) and (field != checked_field):\n",
    "            cost += 1\n",
    "    for col_num in range(9):\n",
    "        if (sudoku[checked_field[0]][checked_field[1]] == sudoku[checked_field[0]][col_num]) and (col_num != checked_field[1]):\n",
    "            cost += 1\n",
    "    return cost\n",
    "\n",
    "def cost_all(sudoku):\n",
    "    final_cost = 0\n",
    "    for x in range(len(sudoku)):\n",
    "        for y in range(len(sudoku[0])):\n",
    "            final_cost += cost((x,y), sudoku)\n",
    "    return final_cost\n",
    "\n",
    "def cost_lines_clusters(sudoku):\n",
    "    final_cost = 0\n",
    "    for x in range(9):\n",
    "        final_cost += (9 - len(set(sudoku[x])))\n",
    "    for x in [0,3,6]:\n",
    "        for y in [0,3,6]:\n",
    "            final_cost += 9 - len(set([sudoku[i[0]][i[1]] for i in cluster(x,y)]))\n",
    "    return final_cost"
   ]
  },
  {
   "cell_type": "markdown",
   "metadata": {
    "deletable": true,
    "editable": true
   },
   "source": [
    "#### Funkcje prawdopodobieństwa akceptacji oraz przykładowa funkcja zmiany temperatury:"
   ]
  },
  {
   "cell_type": "code",
   "execution_count": 5,
   "metadata": {
    "collapsed": false,
    "deletable": true,
    "editable": true
   },
   "outputs": [],
   "source": [
    "def acceptance_probability(old_cost, new_cost, T):\n",
    "    if new_cost < old_cost:\n",
    "        return 1.0\n",
    "    else:\n",
    "        return math.exp(-abs(new_cost - old_cost) / T)\n",
    "\n",
    "def temp(T):\n",
    "    return T * 0.9995"
   ]
  },
  {
   "cell_type": "markdown",
   "metadata": {
    "deletable": true,
    "editable": true
   },
   "source": [
    "#### Generowanie przykładowego rozwiązania sudoku, w którym każda kolumna spełnia wymagania poprawnego rozwiązania:"
   ]
  },
  {
   "cell_type": "code",
   "execution_count": 6,
   "metadata": {
    "collapsed": true,
    "deletable": true,
    "editable": true
   },
   "outputs": [],
   "source": [
    "def generate_random_solution(sudoku):\n",
    "    for col_num in range(9):\n",
    "        col = [i for i in range(1,10)]\n",
    "        for row_num in range(9):\n",
    "            if sudoku[row_num][col_num] != 'x':\n",
    "                tmp = col[row_num]\n",
    "                index = col.index(int(sudoku[row_num][col_num]))\n",
    "                col[row_num] = sudoku[row_num][col_num]\n",
    "                col[index] = tmp\n",
    "        for row_num in range(9):\n",
    "            sudoku[row_num][col_num] = int(col[row_num])"
   ]
  },
  {
   "cell_type": "markdown",
   "metadata": {
    "deletable": true,
    "editable": true
   },
   "source": [
    "#### Losowa zamiana 2 elementów wewnątrz jednej kolumny:"
   ]
  },
  {
   "cell_type": "code",
   "execution_count": 7,
   "metadata": {
    "collapsed": false,
    "deletable": true,
    "editable": true
   },
   "outputs": [],
   "source": [
    "def random_change(sudoku, base_sudoku):\n",
    "    possible_choices = []\n",
    "    while(len(possible_choices) < 2):\n",
    "        col_num = random.randint(0,8)\n",
    "        possible_choices = [i for i in range(9) if base_sudoku[i][col_num] == 'x']\n",
    "    i,j = random.sample(possible_choices, 2)\n",
    "    sudoku[i][col_num], sudoku[j][col_num] = sudoku[j][col_num], sudoku[i][col_num]\n",
    "    return (i, col_num), (j, col_num)"
   ]
  },
  {
   "cell_type": "markdown",
   "metadata": {
    "deletable": true,
    "editable": true
   },
   "source": [
    "#### Prints and Plots:"
   ]
  },
  {
   "cell_type": "code",
   "execution_count": 8,
   "metadata": {
    "collapsed": false,
    "deletable": true,
    "editable": true
   },
   "outputs": [],
   "source": [
    "def sudokuPrint(sudoku):\n",
    "    for x in range(len(sudoku)):\n",
    "        if x % 3 == 0 and x !=0:\n",
    "            print(\" ---------------------\")\n",
    "        for y in range(len(sudoku[0])):\n",
    "            if y % 3 == 0 and y != 0:\n",
    "                print(\" |\", end='')\n",
    "            print(\" \" + str(sudoku[x][y]), end='')\n",
    "        print(\"\\n\", end='')"
   ]
  },
  {
   "cell_type": "code",
   "execution_count": 9,
   "metadata": {
    "collapsed": true,
    "deletable": true,
    "editable": true
   },
   "outputs": [],
   "source": [
    "def plot_costs(costs):\n",
    "    plt.plot(costs)\n",
    "    plt.show()"
   ]
  },
  {
   "cell_type": "markdown",
   "metadata": {
    "deletable": true,
    "editable": true
   },
   "source": [
    "# Simulated Annealling:"
   ]
  },
  {
   "cell_type": "code",
   "execution_count": 10,
   "metadata": {
    "collapsed": false,
    "deletable": true,
    "editable": true
   },
   "outputs": [],
   "source": [
    "def sim_anneal(base_sudoku, change_fun, cost_fun=cost_all, temp_fun=temp,\n",
    "               acceptance_probability_fun=acceptance_probability, T=1000, min_temp=1e-4, max_unrelevant_iter=2000):\n",
    "    points = list([list(row) for row in base_sudoku])\n",
    "    generate_random_solution(points)\n",
    "    \n",
    "    candidate = list([list(row) for row in points])\n",
    "    best_res = list([list(row) for row in points])\n",
    "    curr_cost = cost_fun(points)\n",
    "    best_cost = curr_cost\n",
    "    costs = [curr_cost]\n",
    "    \n",
    "    count = 0\n",
    "    iteration = 0\n",
    "    while T > min_temp and count < max_unrelevant_iter:\n",
    "        point_a, point_b = change_fun(candidate, base_sudoku)\n",
    "        iteration += 1\n",
    "\n",
    "        T = temp_fun(T)\n",
    "        new_cost = cost_fun(candidate)\n",
    "        if(random.random() < acceptance_probability_fun(curr_cost, new_cost, T)):\n",
    "            if new_cost != curr_cost:\n",
    "                count = 0\n",
    "            points[point_a[0]][point_a[1]], points[point_b[0]][point_b[1]] = points[point_b[0]][point_b[1]], points[point_a[0]][point_a[1]]\n",
    "            curr_cost = cost_fun(points)\n",
    "            if(curr_cost < best_cost):\n",
    "                best_res = list(list(row) for row in points)\n",
    "                best_cost = curr_cost\n",
    "        else:\n",
    "            count += 1\n",
    "            candidate[point_a[0]][point_a[1]], candidate[point_b[0]][point_b[1]] = candidate[point_b[0]][point_b[1]], candidate[point_a[0]][point_a[1]]\n",
    "        costs.append(curr_cost)\n",
    "    return (best_res, costs, iteration)"
   ]
  },
  {
   "cell_type": "markdown",
   "metadata": {
    "deletable": true,
    "editable": true
   },
   "source": [
    "# Tests:"
   ]
  },
  {
   "cell_type": "code",
   "execution_count": 11,
   "metadata": {
    "collapsed": false,
    "deletable": true,
    "editable": true,
    "scrolled": false
   },
   "outputs": [
    {
     "name": "stdout",
     "output_type": "stream",
     "text": [
      " x x 1 | 7 x x | 5 x 9\n",
      " 5 7 3 | x 2 4 | 1 x 6\n",
      " 8 x x | 5 x 1 | x x 2\n",
      " ---------------------\n",
      " 7 x x | 2 9 5 | x 1 8\n",
      " x x 9 | 4 x x | 3 x 5\n",
      " 6 5 2 | 8 x x | x x 7\n",
      " ---------------------\n",
      " 4 6 5 | x 8 x | x 7 1\n",
      " x x x | 1 5 9 | x x 4\n",
      " 9 x 8 | x x 7 | x 5 3\n",
      "CPU times: user 2.89 s, sys: 49 ms, total: 2.94 s\n",
      "Wall time: 3.14 s\n"
     ]
    }
   ],
   "source": [
    "sudoku = readFromFile(\"ex/free45/0\")\n",
    "sudokuPrint(sudoku)\n",
    "%time res, costs, _ = sim_anneal(sudoku, random_change, T=20, cost_fun=cost_lines_clusters, temp_fun=lambda x: x * 0.9998, min_temp=1e-5)"
   ]
  },
  {
   "cell_type": "code",
   "execution_count": 12,
   "metadata": {
    "collapsed": false,
    "deletable": true,
    "editable": true
   },
   "outputs": [
    {
     "data": {
      "image/png": "[encoded data removed]",
      "text/plain": [
       "<matplotlib.figure.Figure at 0x1084ddfd0>"
      ]
     },
     "metadata": {},
     "output_type": "display_data"
    }
   ],
   "source": [
    "plot_costs(costs)"
   ]
  },
  {
   "cell_type": "markdown",
   "metadata": {
    "deletable": true,
    "editable": true
   },
   "source": [
    "Wykres wygląda w ten sposób, ponieważ zostało nałożone górne ograniczenie na liczbę nic nie wnoszących iteracji \n",
    "(jeżeli przez 2000 (domyślnie) iteracji nie zamieniono żadnego elementu - skończ działanie algorytmu."
   ]
  },
  {
   "cell_type": "code",
   "execution_count": 13,
   "metadata": {
    "collapsed": false,
    "deletable": true,
    "editable": true
   },
   "outputs": [
    {
     "name": "stdout",
     "output_type": "stream",
     "text": [
      " 2 4 1 | 7 6 8 | 5 3 9\n",
      " 5 7 3 | 9 2 4 | 1 8 6\n",
      " 8 9 6 | 5 3 1 | 7 4 2\n",
      " ---------------------\n",
      " 7 3 4 | 2 9 5 | 6 1 8\n",
      " 1 8 9 | 4 7 6 | 3 2 5\n",
      " 6 5 2 | 8 1 3 | 4 9 7\n",
      " ---------------------\n",
      " 4 6 5 | 3 8 2 | 9 7 1\n",
      " 3 2 7 | 1 5 9 | 8 6 4\n",
      " 9 1 8 | 6 4 7 | 2 5 3\n"
     ]
    }
   ],
   "source": [
    "sudokuPrint(res)"
   ]
  },
  {
   "cell_type": "code",
   "execution_count": 14,
   "metadata": {
    "collapsed": false,
    "deletable": true,
    "editable": true
   },
   "outputs": [
    {
     "data": {
      "text/plain": [
       "0"
      ]
     },
     "execution_count": 14,
     "metadata": {},
     "output_type": "execute_result"
    }
   ],
   "source": [
    "cost_lines_clusters(res)"
   ]
  },
  {
   "cell_type": "markdown",
   "metadata": {
    "deletable": true,
    "editable": true
   },
   "source": [
    "## Test na wielu przykładach:\n",
    "-----\n",
    "### Aby sprawdzić efektywność rozwiązań, przetestowałem obydwie funkcje na wielu różnych przykładach sudoku:"
   ]
  },
  {
   "cell_type": "code",
   "execution_count": 510,
   "metadata": {
    "collapsed": false,
    "deletable": true,
    "editable": true
   },
   "outputs": [
    {
     "name": "stderr",
     "output_type": "stream",
     "text": [
      "100%|██████████| 20/20 [05:41<00:00, 17.16s/it]\n",
      "100%|██████████| 20/20 [07:08<00:00, 19.72s/it]\n",
      "100%|██████████| 20/20 [06:51<00:00, 19.73s/it]\n",
      "100%|██████████| 20/20 [06:29<00:00, 19.61s/it]\n",
      "100%|██████████| 20/20 [06:31<00:00, 19.97s/it]\n"
     ]
    }
   ],
   "source": [
    "iter_num = {45: [], 50: [], 55: [], 60: [], 65: []}\n",
    "mistakes = {45: [], 50: [], 55: [], 60: [], 65: []}\n",
    "for free in [45,50,55,60,65]:\n",
    "    for id in tqdm(range(20)):\n",
    "        sudoku = readFromFile(\"ex/free\" + str(free) + \"/\" + str(id))\n",
    "        res, costs, iterations = sim_anneal(sudoku, random_change, T=300, temp_fun=lambda x: x * 0.9995, min_temp=1e-5)\n",
    "        iter_num[free].append(iterations)\n",
    "        mistakes[free].append(cost_lines_clusters(res))"
   ]
  },
  {
   "cell_type": "markdown",
   "metadata": {
    "deletable": true,
    "editable": true
   },
   "source": [
    "##### Średni błąd rozwiązania względem liczby pustych miejsc:"
   ]
  },
  {
   "cell_type": "code",
   "execution_count": 511,
   "metadata": {
    "collapsed": false,
    "deletable": true,
    "editable": true
   },
   "outputs": [
    {
     "name": "stdout",
     "output_type": "stream",
     "text": [
      "45 0.1\n",
      "50 1.2\n",
      "55 2.75\n",
      "60 4.75\n",
      "65 5.55\n"
     ]
    }
   ],
   "source": [
    "for x in [45, 50, 55, 60, 65]:\n",
    "    print(x, sum(mistakes[x])/20.0)"
   ]
  },
  {
   "cell_type": "markdown",
   "metadata": {
    "deletable": true,
    "editable": true
   },
   "source": [
    "##### Błędy:"
   ]
  },
  {
   "cell_type": "code",
   "execution_count": 520,
   "metadata": {
    "collapsed": false,
    "deletable": true,
    "editable": true
   },
   "outputs": [
    {
     "data": {
      "text/plain": [
       "{45: [0, 0, 0, 0, 0, 0, 0, 0, 0, 0, 0, 0, 0, 0, 2, 0, 0, 0, 0, 0],\n",
       " 50: [4, 0, 0, 2, 0, 0, 2, 0, 2, 0, 6, 2, 0, 0, 2, 2, 0, 0, 2, 0],\n",
       " 55: [4, 2, 5, 0, 0, 2, 6, 2, 4, 0, 0, 7, 2, 4, 6, 2, 2, 5, 2, 0],\n",
       " 60: [9, 6, 2, 4, 4, 10, 0, 4, 4, 7, 6, 2, 6, 4, 2, 7, 4, 4, 6, 4],\n",
       " 65: [5, 5, 5, 4, 8, 6, 6, 5, 8, 4, 5, 4, 7, 7, 6, 2, 6, 5, 7, 6]}"
      ]
     },
     "execution_count": 520,
     "metadata": {},
     "output_type": "execute_result"
    }
   ],
   "source": [
    "mistakes"
   ]
  },
  {
   "cell_type": "markdown",
   "metadata": {
    "deletable": true,
    "editable": true
   },
   "source": [
    "Jak można zauważyć, dla mniejszej liczby wolnych miejsc algorytm ma lepsze wyniki, natomiast rozwiązania nie są poprawne, jeżeli liczba wolnych pól wynosi 65"
   ]
  },
  {
   "cell_type": "markdown",
   "metadata": {
    "deletable": true,
    "editable": true
   },
   "source": [
    "###### Średnia liczba iteracji względem liczby pustych miejsc:"
   ]
  },
  {
   "cell_type": "code",
   "execution_count": 512,
   "metadata": {
    "collapsed": false,
    "deletable": true,
    "editable": true,
    "scrolled": true
   },
   "outputs": [
    {
     "name": "stdout",
     "output_type": "stream",
     "text": [
      "45 13970.55\n",
      "50 14112.6\n",
      "55 14545.3\n",
      "60 14945.75\n",
      "65 15453.45\n"
     ]
    }
   ],
   "source": [
    "for x in [45, 50, 55, 60, 65]:\n",
    "    print(x, sum(iter_num[x])/20.0)"
   ]
  },
  {
   "cell_type": "markdown",
   "metadata": {
    "deletable": true,
    "editable": true
   },
   "source": [
    "### Test z wykorzystaniem funkcji zliczającej liczbę powtórzeń w wierszu oraz w klastrze:"
   ]
  },
  {
   "cell_type": "code",
   "execution_count": 527,
   "metadata": {
    "collapsed": false,
    "deletable": true,
    "editable": true,
    "scrolled": true
   },
   "outputs": [
    {
     "name": "stderr",
     "output_type": "stream",
     "text": [
      "100%|██████████| 20/20 [00:27<00:00,  1.38s/it]\n",
      "100%|██████████| 20/20 [00:27<00:00,  1.36s/it]\n",
      "100%|██████████| 20/20 [00:28<00:00,  1.41s/it]\n",
      "100%|██████████| 20/20 [00:30<00:00,  1.51s/it]\n",
      "100%|██████████| 20/20 [00:29<00:00,  1.47s/it]\n"
     ]
    }
   ],
   "source": [
    "iter_num_o = {45: [], 50: [], 55: [], 60: [], 65: []}\n",
    "mistakes_o = {45: [], 50: [], 55: [], 60: [], 65: []}\n",
    "for free in [45,50,55,60,65]:\n",
    "    for id in tqdm(range(20)):\n",
    "        sudoku = readFromFile(\"ex/free\" + str(free) + \"/\" + str(id))\n",
    "        res, costs, iterations = sim_anneal(sudoku, random_change, T=30, cost_fun=cost_lines_clusters, temp_fun=lambda x: x * 0.9995, min_temp=1e-5)\n",
    "        iter_num_o[free].append(iterations)\n",
    "        mistakes_o[free].append(cost_lines_clusters(res))"
   ]
  },
  {
   "cell_type": "markdown",
   "metadata": {
    "deletable": true,
    "editable": true
   },
   "source": [
    "Średni błąd rozwiązania względem liczby pustych miejsc:"
   ]
  },
  {
   "cell_type": "code",
   "execution_count": 528,
   "metadata": {
    "collapsed": false,
    "deletable": true,
    "editable": true
   },
   "outputs": [
    {
     "name": "stdout",
     "output_type": "stream",
     "text": [
      "45 0.1\n",
      "50 0.75\n",
      "55 3.25\n",
      "60 4.05\n",
      "65 5.3\n"
     ]
    }
   ],
   "source": [
    "for x in [45, 50, 55, 60, 65]:\n",
    "    print(x, sum(mistakes_o[x])/20.0)"
   ]
  },
  {
   "cell_type": "markdown",
   "metadata": {
    "deletable": true,
    "editable": true
   },
   "source": [
    "Średnia liczba iteracji względem liczby pustych miejsc:"
   ]
  },
  {
   "cell_type": "code",
   "execution_count": 529,
   "metadata": {
    "collapsed": false,
    "deletable": true,
    "editable": true
   },
   "outputs": [
    {
     "name": "stdout",
     "output_type": "stream",
     "text": [
      "45 10674.15\n",
      "50 10904.9\n",
      "55 11419.1\n",
      "60 12034.45\n",
      "65 11973.2\n"
     ]
    }
   ],
   "source": [
    "for x in [45, 50, 55, 60, 65]:\n",
    "    print(x, sum(iter_num_o[x])/20.0)"
   ]
  }
 ],
 "metadata": {
  "kernelspec": {
   "display_name": "Python 3",
   "language": "python",
   "name": "python3"
  },
  "language_info": {
   "codemirror_mode": {
    "name": "ipython",
    "version": 3
   },
   "file_extension": ".py",
   "mimetype": "text/x-python",
   "name": "python",
   "nbconvert_exporter": "python",
   "pygments_lexer": "ipython3",
   "version": "3.6.0"
  }
 },
 "nbformat": 4,
 "nbformat_minor": 2
}
