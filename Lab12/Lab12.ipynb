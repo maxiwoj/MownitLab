{
 "cells": [
  {
   "cell_type": "code",
   "execution_count": 2,
   "metadata": {
    "collapsed": false,
    "deletable": true,
    "editable": true
   },
   "outputs": [],
   "source": [
    "import numpy as np\n",
    "from scipy import integrate\n",
    "import matplotlib.pyplot as plt\n",
    "from math import *"
   ]
  },
  {
   "cell_type": "code",
   "execution_count": 3,
   "metadata": {
    "collapsed": true,
    "deletable": true,
    "editable": true
   },
   "outputs": [],
   "source": [
    "def draw_integral(x,y):\n",
    "    plt.plot(x,y)\n",
    "    plt.show()"
   ]
  },
  {
   "cell_type": "code",
   "execution_count": 4,
   "metadata": {
    "collapsed": true,
    "deletable": true,
    "editable": true
   },
   "outputs": [],
   "source": [
    "n = 10\n",
    "t = np.arange(0,n,1)\n",
    "speed = np.random.randint(-50,100, n)"
   ]
  },
  {
   "cell_type": "code",
   "execution_count": 5,
   "metadata": {
    "collapsed": false,
    "deletable": true,
    "editable": true
   },
   "outputs": [
    {
     "data": {
      "text/plain": [
       "array([99,  0, 22, 24, 69, 45, 14, -4, 96, 47])"
      ]
     },
     "execution_count": 5,
     "metadata": {},
     "output_type": "execute_result"
    }
   ],
   "source": [
    "speed"
   ]
  },
  {
   "cell_type": "code",
   "execution_count": 6,
   "metadata": {
    "collapsed": false,
    "deletable": true,
    "editable": true
   },
   "outputs": [
    {
     "data": {
      "image/png": "[encoded data removed]",
      "text/plain": [
       "<matplotlib.figure.Figure at 0x1106395c0>"
      ]
     },
     "metadata": {},
     "output_type": "display_data"
    }
   ],
   "source": [
    "draw_integral(t, integrate.cumtrapz(speed, t, initial=0))"
   ]
  },
  {
   "cell_type": "markdown",
   "metadata": {},
   "source": [
    "# Zadanie 1"
   ]
  },
  {
   "cell_type": "code",
   "execution_count": 7,
   "metadata": {
    "collapsed": true,
    "deletable": true,
    "editable": true
   },
   "outputs": [],
   "source": [
    "def find_distance_trapez(time,speed):\n",
    "    return integrate.cumtrapz(speed, time)[-1]"
   ]
  },
  {
   "cell_type": "code",
   "execution_count": 8,
   "metadata": {
    "collapsed": false,
    "deletable": true,
    "editable": true
   },
   "outputs": [
    {
     "data": {
      "text/plain": [
       "50488.0"
      ]
     },
     "execution_count": 8,
     "metadata": {},
     "output_type": "execute_result"
    }
   ],
   "source": [
    "n = 1000\n",
    "t = np.arange(0,n,1)\n",
    "speed = np.random.randint(1,100, n)\n",
    "find_distance_trapez(t, speed)"
   ]
  },
  {
   "cell_type": "markdown",
   "metadata": {},
   "source": [
    "# Zadanie 2"
   ]
  },
  {
   "cell_type": "code",
   "execution_count": 9,
   "metadata": {
    "collapsed": true,
    "deletable": true,
    "editable": true
   },
   "outputs": [],
   "source": [
    "def find_distance_simps(time, speed):\n",
    "    return integrate.simps(speed, time)"
   ]
  },
  {
   "cell_type": "code",
   "execution_count": 10,
   "metadata": {
    "collapsed": false,
    "deletable": true,
    "editable": true,
    "scrolled": true
   },
   "outputs": [
    {
     "name": "stdout",
     "output_type": "stream",
     "text": [
      "points\t\ttrapez\t\tsimps\t\terr\n",
      "10\t\t433.0\t\t427.25\t\t1.346%\n",
      "30\t\t1579.0\t\t1578.083\t\t0.058%\n",
      "50\t\t2631.5\t\t2628.583\t\t0.111%\n",
      "70\t\t3473.0\t\t3470.75\t\t0.065%\n",
      "90\t\t4466.0\t\t4467.333\t\t0.03%\n",
      "110\t\t5807.0\t\t5813.667\t\t0.115%\n",
      "130\t\t6613.5\t\t6606.583\t\t0.105%\n",
      "150\t\t7609.0\t\t7609.75\t\t0.01%\n",
      "170\t\t8462.0\t\t8463.333\t\t0.016%\n",
      "190\t\t8949.0\t\t8959.167\t\t0.113%\n",
      "210\t\t10810.5\t\t10814.917\t\t0.041%\n",
      "230\t\t10592.0\t\t10593.917\t\t0.018%\n",
      "250\t\t13041.0\t\t13045.25\t\t0.033%\n",
      "270\t\t13755.5\t\t13759.083\t\t0.026%\n",
      "290\t\t14877.0\t\t14872.583\t\t0.03%\n",
      "310\t\t15447.0\t\t15445.833\t\t0.008%\n",
      "330\t\t16769.0\t\t16773.583\t\t0.027%\n",
      "350\t\t18215.5\t\t18217.417\t\t0.011%\n",
      "370\t\t18614.5\t\t18614.25\t\t0.001%\n",
      "390\t\t20274.5\t\t20274.75\t\t0.001%\n",
      "410\t\t20710.5\t\t20703.833\t\t0.032%\n",
      "430\t\t20465.0\t\t20468.5\t\t0.017%\n",
      "450\t\t23246.5\t\t23253.667\t\t0.031%\n",
      "470\t\t22959.5\t\t22957.583\t\t0.008%\n",
      "490\t\t25390.0\t\t25399.833\t\t0.039%\n",
      "510\t\t24141.5\t\t24139.417\t\t0.009%\n",
      "530\t\t27831.5\t\t27835.833\t\t0.016%\n",
      "550\t\t27447.5\t\t27442.833\t\t0.017%\n",
      "570\t\t28995.5\t\t28991.083\t\t0.015%\n",
      "590\t\t29377.5\t\t29383.083\t\t0.019%\n",
      "610\t\t30877.5\t\t30883.0\t\t0.018%\n",
      "630\t\t31898.5\t\t31893.167\t\t0.017%\n",
      "650\t\t31222.0\t\t31220.0\t\t0.006%\n",
      "670\t\t32435.0\t\t32438.25\t\t0.01%\n",
      "690\t\t35506.5\t\t35509.75\t\t0.009%\n",
      "710\t\t33717.0\t\t33718.25\t\t0.004%\n",
      "730\t\t37055.5\t\t37050.833\t\t0.013%\n",
      "750\t\t35771.5\t\t35775.25\t\t0.01%\n",
      "770\t\t38294.5\t\t38286.5\t\t0.021%\n",
      "790\t\t40045.5\t\t40043.917\t\t0.004%\n",
      "810\t\t39921.5\t\t39927.583\t\t0.015%\n",
      "830\t\t41449.5\t\t41449.25\t\t0.001%\n",
      "850\t\t42173.5\t\t42176.333\t\t0.007%\n",
      "870\t\t43329.0\t\t43331.083\t\t0.005%\n",
      "890\t\t46174.5\t\t46167.417\t\t0.015%\n",
      "910\t\t43008.5\t\t43009.333\t\t0.002%\n",
      "930\t\t45787.0\t\t45794.0\t\t0.015%\n",
      "950\t\t46888.5\t\t46884.583\t\t0.008%\n",
      "970\t\t46644.0\t\t46640.167\t\t0.008%\n",
      "990\t\t49676.0\t\t49676.25\t\t0.001%\n"
     ]
    }
   ],
   "source": [
    "print(\"points\\t\\ttrapez\\t\\tsimps\\t\\terr\")\n",
    "for i in range(10, 1000, 20):\n",
    "    n = i\n",
    "    t = np.arange(0,n,1)\n",
    "    speed = np.random.randint(1,100, n)\n",
    "    \n",
    "    trap = find_distance_trapez(t,speed)\n",
    "    sims = find_distance_simps(t,speed)\n",
    "    \n",
    "    diff = abs(sims - trap) / sims * 100\n",
    "    print(\"{0}\\t\\t{1}\\t\\t{2}\\t\\t{3}%\".format(n,round(trap,3),round(sims,3),round(diff,3)))"
   ]
  },
  {
   "cell_type": "markdown",
   "metadata": {},
   "source": [
    "# Zadanie 3"
   ]
  },
  {
   "cell_type": "code",
   "execution_count": 12,
   "metadata": {
    "collapsed": true,
    "deletable": true,
    "editable": true
   },
   "outputs": [],
   "source": [
    "fun1 = lambda x: e**(-x**2) * (log(x))**2\n",
    "fun2 = lambda x: 1 / (x**3 - 2*x -5)\n",
    "fun3 = lambda x: x**5 * e**(-x) * sin(x)\n",
    "fun4 = lambda x, y: 1 / (sqrt(x + y) * 1 + x + y)\n",
    "fun5 = lambda x, y: x**2 + y**2"
   ]
  },
  {
   "cell_type": "code",
   "execution_count": 15,
   "metadata": {
    "collapsed": false,
    "deletable": true,
    "editable": true
   },
   "outputs": [
    {
     "data": {
      "text/plain": [
       "(0.38629436111989174, 1.5139958764776276e-08)"
      ]
     },
     "execution_count": 15,
     "metadata": {},
     "output_type": "execute_result"
    }
   ],
   "source": [
    "integrate.dblquad(fun4, 0,1, lambda x: 0, lambda x: 1 - x)"
   ]
  },
  {
   "cell_type": "code",
   "execution_count": 30,
   "metadata": {
    "collapsed": false,
    "deletable": true,
    "editable": true
   },
   "outputs": [
    {
     "data": {
      "text/plain": [
       "(0.38629436111989174, 1.5139958764776276e-08)"
      ]
     },
     "execution_count": 30,
     "metadata": {},
     "output_type": "execute_result"
    }
   ],
   "source": [
    "integrate.nquad(fun4, [lambda x: [0,1-x], [0,1]])"
   ]
  },
  {
   "cell_type": "code",
   "execution_count": null,
   "metadata": {
    "collapsed": true
   },
   "outputs": [],
   "source": []
  }
 ],
 "metadata": {
  "kernelspec": {
   "display_name": "Python 3",
   "language": "python",
   "name": "python3"
  },
  "language_info": {
   "codemirror_mode": {
    "name": "ipython",
    "version": 3
   },
   "file_extension": ".py",
   "mimetype": "text/x-python",
   "name": "python",
   "nbconvert_exporter": "python",
   "pygments_lexer": "ipython3",
   "version": "3.6.0"
  }
 },
 "nbformat": 4,
 "nbformat_minor": 2
}
